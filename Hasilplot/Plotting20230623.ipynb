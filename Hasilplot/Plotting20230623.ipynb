{
 "cells": [
  {
   "cell_type": "code",
   "execution_count": 15,
   "metadata": {},
   "outputs": [],
   "source": [
    "import numpy as np\n",
    "import pandas as pd\n",
    "from scipy.integrate import odeint\n",
    "import matplotlib.pyplot as plt\n",
    "import matplotlib\n",
    "matplotlib.style.use('seaborn-bright')"
   ]
  },
  {
   "cell_type": "code",
   "execution_count": 32,
   "metadata": {},
   "outputs": [],
   "source": [
    "plt.rcParams['text.usetex'] = True\n",
    "plt.rcParams['xtick.major.size'] = 5.0\n",
    "plt.rcParams['xtick.minor.size'] = 3.0\n",
    "plt.rcParams['ytick.major.size'] = 5.0\n",
    "plt.rcParams['ytick.minor.size'] = 3.0"
   ]
  },
  {
   "cell_type": "code",
   "execution_count": 16,
   "metadata": {},
   "outputs": [],
   "source": [
    "#Definisi variabel\n",
    "y0 = [0, 0, 0, 0, 0, 0, 0, 0, 0, 100, 0]\n",
    "k1 = 5.82e-2 * 0.01\n",
    "k2= 1.16e-1 * 0.01\n",
    "k3 = 6.12e-2 * 0.01\n",
    "k4 = 1.30e-2* 0.01\n",
    "k5 = 6.62e-2* 0.01\n",
    "k6 = 9.57e-4* 0.01\n",
    "k7 = 7.2e-4* 0.01\n",
    "k8 = 6.46e-4* 0.01\n",
    "k9 = 1.72e-4* 0.01\n",
    "k10 = 1.16e-7* 0.01\n",
    "k11 = 7.57e-4* 0.01\n",
    "k12 = 2.26e-2* 0.01\n",
    "k13 = 1.72e-2* 0.01\n",
    "k14 = 2.19e-2* 0.01\n",
    "k15 = 1.2e-6* 0.01\n",
    "k16 = 1.32* 0.01\n",
    "k17 = 2.76* 0.01\n",
    "k18 = 3.62e-3* 0.01\n",
    "dt = 0.01\n",
    "t = 300 * 60\n"
   ]
  },
  {
   "cell_type": "code",
   "execution_count": 17,
   "metadata": {},
   "outputs": [],
   "source": [
    "#fungsi waktu\n",
    "time = np.linspace(0,t,int(t/dt)+1) "
   ]
  },
  {
   "cell_type": "code",
   "execution_count": 18,
   "metadata": {},
   "outputs": [],
   "source": [
    "#definisi fungsi \n",
    "def returns_dydt_new(y, t):\n",
    "    Bf, Bs, L, HW, K, Llf, Lls, Of, Os, P, E = y\n",
    "    dydt = [(-(k4+k5)*Bf + k6 * Bs + k3 * P), (-k6 * Bs + k5 * Bf), (-k8 * L + k7 * P), (-k10 * HW + k9 * P), (-k12 * K + k11 * P), (-(k14+k15) * Llf + k13 * P), (k15 * Llf), (-(k17+k18) * Of + k16 * P), (k18 * Of), (-(k1+k3+k7+k9+k11+k13+k16) * P + k2 * E + k4 * Bf + k8 * L + k10 * HW + k12 * K + k14 * Llf + k17 * Of), (-k2 * E + k1 * P)]\n",
    "    return dydt"
   ]
  },
  {
   "cell_type": "code",
   "execution_count": 19,
   "metadata": {},
   "outputs": [],
   "source": [
    "y1 = np.transpose(odeint(returns_dydt_new, y0, time))"
   ]
  },
  {
   "cell_type": "code",
   "execution_count": 20,
   "metadata": {},
   "outputs": [],
   "source": [
    "time_plot = time/60 # Dibagi 60 karena kita satuannya dalam menit"
   ]
  },
  {
   "cell_type": "code",
   "execution_count": 21,
   "metadata": {},
   "outputs": [],
   "source": [
    "#persamaan perkalian sample\n",
    "#konstanta \n",
    "a = 0.6\n",
    "b = np.exp(-np.log(2)*(time/(110*60))) #half life\n",
    "q1 = y1[9,:] #Plasma\n",
    "q2 = y1[10,:] #Eritrosit\n",
    "q3 = y1[3,:] #Heart Wall\n",
    "q4 = y1[2,:] #Lungs\n",
    "q5 = y1[0,:] #Fast brain\n",
    "q6 = y1[1,:] #Slow brain\n",
    "q7 = y1[4,:] #Kidneys\n",
    "q8 = y1[5,:] #Fast liver\n",
    "q9 = y1[6,:] #Slow liver\n",
    "\n",
    "#heart wall\n",
    "s1 = (q3 +(q1+ q2)*0.031)*b\n",
    "\n",
    "#lungs\n",
    "s2 = (q4 + ((1-a)*q2 + a*q1)*0.03)*b\n",
    "\n",
    "#brain\n",
    "s3 = ((q5+q6)+0.135*(a*q1+(1-a)*q2))*b\n",
    "\n",
    "#kidney\n",
    "s4 = (q7)*b\n",
    "\n",
    "#liver\n",
    "s5 = ((q2 + q1)* 0.098+ q8+q9)*b\n",
    "\n"
   ]
  },
  {
   "cell_type": "code",
   "execution_count": 36,
   "metadata": {},
   "outputs": [
    {
     "data": {
      "text/plain": [
       "Text(0.5, 0.01, 'Time (min)')"
      ]
     },
     "execution_count": 36,
     "metadata": {},
     "output_type": "execute_result"
    },
    {
     "data": {
      "image/png": "[encoded data removed]",
      "text/plain": [
       "<Figure size 648x576 with 2 Axes>"
      ]
     },
     "metadata": {
      "needs_background": "light"
     },
     "output_type": "display_data"
    }
   ],
   "source": [
    "fig1, (ax1,ax2) = plt.subplots(nrows= 2, ncols = 1, figsize = (9,8))\n",
    "ax1.plot(time_plot,s1)\n",
    "ax1.plot(time_plot,s2)\n",
    "ax1.plot(time_plot,s3, color = \"green\")\n",
    "ax1.plot(time_plot,s4)\n",
    "#ax1.plot(df['xb']*60,df['yb'], 'o')\n",
    "#ax1.plot(df['xl']*60,df['yl'], 'o')\n",
    "#ax1.plot(df['xhw']*60,df['yhw'], 'o')\n",
    "#ax1.plot(df['xk']*60,df['yk'], 'o')\n",
    "#ax1.plot(time_plot,s5)\n",
    "ax1.set_xlim([0,t/60])\n",
    "ax1.set_ylim([0,60])\n",
    "ax1.legend(('hw', 'l', 'b', 'k', 'b s', 'l s', 'hw s', 'k s'))\n",
    "ax1.grid(False)\n",
    "ax1.set_ylabel(\"\\% Injected activity\", fontsize = 20)\n",
    "#ax1.set_xlabel(\"Time (min)\", fontsize = 20)\n",
    "ax1.tick_params(axis = \"both\", labelsize = 20)\n",
    "\n",
    "fig1.supxlabel(\"Time (min)\", fontsize = 20)"
   ]
  },
  {
   "cell_type": "code",
   "execution_count": null,
   "metadata": {},
   "outputs": [],
   "source": [
    "#Comment apapun\n",
    "#daklfjdalfjd"
   ]
  }
 ],
 "metadata": {
  "kernelspec": {
   "display_name": "Python 3",
   "language": "python",
   "name": "python3"
  },
  "language_info": {
   "codemirror_mode": {
    "name": "ipython",
    "version": 3
   },
   "file_extension": ".py",
   "mimetype": "text/x-python",
   "name": "python",
   "nbconvert_exporter": "python",
   "pygments_lexer": "ipython3",
   "version": "3.8.12"
  },
  "orig_nbformat": 4
 },
 "nbformat": 4,
 "nbformat_minor": 2
}
